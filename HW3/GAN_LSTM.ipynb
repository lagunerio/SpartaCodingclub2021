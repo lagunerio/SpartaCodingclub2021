{
  "nbformat": 4,
  "nbformat_minor": 0,
  "metadata": {
    "colab": {
      "name": "HW3_GAN-LSTM.ipynb",
      "provenance": [],
      "collapsed_sections": [],
      "mount_file_id": "1dWeiXdQy8EQTegGFftGQ4uJ4AbbxWxVA",
      "authorship_tag": "ABX9TyO0H+bMJWhQAiVxHpB5VE0U",
      "include_colab_link": true
    },
    "kernelspec": {
      "name": "python3",
      "display_name": "Python 3"
    },
    "language_info": {
      "name": "python"
    }
  },
  "cells": [
    {
      "cell_type": "markdown",
      "metadata": {
        "id": "view-in-github",
        "colab_type": "text"
      },
      "source": [
        "<a href=\"https://colab.research.google.com/github/lagunerio/SpartaCodingclub2021/blob/main/HW3/GAN_LSTM.ipynb\" target=\"_parent\"><img src=\"https://colab.research.google.com/assets/colab-badge.svg\" alt=\"Open In Colab\"/></a>"
      ]
    },
    {
      "cell_type": "code",
      "metadata": {
        "colab": {
          "base_uri": "https://localhost:8080/"
        },
        "id": "HTPBQ-rpi6BD",
        "outputId": "b9d7f2c6-e854-4a74-bdbd-640b3fa477cf"
      },
      "source": [
        "# !pip uninstall -y keras\n",
        "!pip install keras"
      ],
      "execution_count": 1,
      "outputs": [
        {
          "output_type": "stream",
          "name": "stdout",
          "text": [
            "Requirement already satisfied: keras in /usr/local/lib/python3.7/dist-packages (2.6.0)\n"
          ]
        }
      ]
    },
    {
      "cell_type": "code",
      "metadata": {
        "id": "zCRpf_OwPt4i"
      },
      "source": [
        "import keras\n",
        "from keras import layers\n",
        "from tensorflow.keras import optimizers\n",
        "import numpy as np\n",
        "import pandas as pd\n",
        "from sklearn.preprocessing import MinMaxScaler\n",
        "import copy\n",
        "from keras.utils.vis_utils import plot_model"
      ],
      "execution_count": 11,
      "outputs": []
    },
    {
      "cell_type": "markdown",
      "metadata": {
        "id": "Zo67NLheRxyB"
      },
      "source": [
        "# 데이터 준비"
      ]
    },
    {
      "cell_type": "code",
      "metadata": {
        "id": "REn6fbjqn8hM"
      },
      "source": [
        "from google.colab import files\n",
        "uploaded = files.upload()"
      ],
      "execution_count": null,
      "outputs": []
    },
    {
      "cell_type": "code",
      "metadata": {
        "colab": {
          "base_uri": "https://localhost:8080/",
          "height": 203
        },
        "id": "Mxn06hWIP3XJ",
        "outputId": "d426768e-d69a-4515-c4d6-279cea0f922a"
      },
      "source": [
        "df_final = pd.read_csv(\"BAC.csv\")\n",
        "df_final.head()"
      ],
      "execution_count": 12,
      "outputs": [
        {
          "output_type": "execute_result",
          "data": {
            "text/html": [
              "<div>\n",
              "<style scoped>\n",
              "    .dataframe tbody tr th:only-of-type {\n",
              "        vertical-align: middle;\n",
              "    }\n",
              "\n",
              "    .dataframe tbody tr th {\n",
              "        vertical-align: top;\n",
              "    }\n",
              "\n",
              "    .dataframe thead th {\n",
              "        text-align: right;\n",
              "    }\n",
              "</style>\n",
              "<table border=\"1\" class=\"dataframe\">\n",
              "  <thead>\n",
              "    <tr style=\"text-align: right;\">\n",
              "      <th></th>\n",
              "      <th>Date</th>\n",
              "      <th>Open</th>\n",
              "      <th>High</th>\n",
              "      <th>Low</th>\n",
              "      <th>Close</th>\n",
              "      <th>Adj Close</th>\n",
              "      <th>Volume</th>\n",
              "    </tr>\n",
              "  </thead>\n",
              "  <tbody>\n",
              "    <tr>\n",
              "      <th>0</th>\n",
              "      <td>2020-09-21</td>\n",
              "      <td>24.570000</td>\n",
              "      <td>24.780001</td>\n",
              "      <td>24.030001</td>\n",
              "      <td>24.469999</td>\n",
              "      <td>23.973949</td>\n",
              "      <td>75218600</td>\n",
              "    </tr>\n",
              "    <tr>\n",
              "      <th>1</th>\n",
              "      <td>2020-09-22</td>\n",
              "      <td>24.270000</td>\n",
              "      <td>24.600000</td>\n",
              "      <td>23.809999</td>\n",
              "      <td>23.940001</td>\n",
              "      <td>23.454697</td>\n",
              "      <td>68665300</td>\n",
              "    </tr>\n",
              "    <tr>\n",
              "      <th>2</th>\n",
              "      <td>2020-09-23</td>\n",
              "      <td>24.100000</td>\n",
              "      <td>24.260000</td>\n",
              "      <td>23.260000</td>\n",
              "      <td>23.260000</td>\n",
              "      <td>22.788481</td>\n",
              "      <td>59950300</td>\n",
              "    </tr>\n",
              "    <tr>\n",
              "      <th>3</th>\n",
              "      <td>2020-09-24</td>\n",
              "      <td>23.379999</td>\n",
              "      <td>23.820000</td>\n",
              "      <td>22.950001</td>\n",
              "      <td>23.340000</td>\n",
              "      <td>22.866859</td>\n",
              "      <td>53570700</td>\n",
              "    </tr>\n",
              "    <tr>\n",
              "      <th>4</th>\n",
              "      <td>2020-09-25</td>\n",
              "      <td>23.280001</td>\n",
              "      <td>23.549999</td>\n",
              "      <td>23.129999</td>\n",
              "      <td>23.490000</td>\n",
              "      <td>23.013819</td>\n",
              "      <td>42111300</td>\n",
              "    </tr>\n",
              "  </tbody>\n",
              "</table>\n",
              "</div>"
            ],
            "text/plain": [
              "         Date       Open       High        Low      Close  Adj Close    Volume\n",
              "0  2020-09-21  24.570000  24.780001  24.030001  24.469999  23.973949  75218600\n",
              "1  2020-09-22  24.270000  24.600000  23.809999  23.940001  23.454697  68665300\n",
              "2  2020-09-23  24.100000  24.260000  23.260000  23.260000  22.788481  59950300\n",
              "3  2020-09-24  23.379999  23.820000  22.950001  23.340000  22.866859  53570700\n",
              "4  2020-09-25  23.280001  23.549999  23.129999  23.490000  23.013819  42111300"
            ]
          },
          "metadata": {},
          "execution_count": 12
        }
      ]
    },
    {
      "cell_type": "markdown",
      "metadata": {
        "id": "JW7QcrZASBY7"
      },
      "source": [
        "# 함수 1. 한개의 데이터를 Input과 Y(예측)값으로 나누어주기"
      ]
    },
    {
      "cell_type": "code",
      "metadata": {
        "id": "eS09sH2JRv2B"
      },
      "source": [
        "def series_to_supervised(data, n_in=1, n_out=1, dropnan=True):\n",
        "\tn_vars = 1 if type(data) is list else data.shape[1]\n",
        "\tdf = pd.DataFrame(data)\n",
        "\tcols, names = list(), list()\n",
        "\t# input sequence (t-n, ... t-1)\n",
        "\tfor i in range(n_in, 0, -1):\n",
        "\t\tcols.append(df.shift(i))\n",
        "\t\tnames += [('var%d(t-%d)' % (j + 1, i)) for j in range(n_vars)]\n",
        "\t# forecast sequence (t, t+1, ... t+n)\n",
        "\tfor i in range(0, n_out):\n",
        "\t\tcols.append(df.shift(-i))\n",
        "\t\tif i == 0:\n",
        "\t\t\tnames += [('var%d(t)' % (j + 1)) for j in range(n_vars)]\n",
        "\t\telse:\n",
        "\t\t\tnames += [('var%d(t+%d)' % (j + 1, i)) for j in range(n_vars)]\n",
        "\t# put it all together\n",
        "\tagg = pd.concat(cols, axis=1)\n",
        "\tagg.columns = names\n",
        "\t# drop rows with NaN values\n",
        "\tif dropnan:\n",
        "\t\tagg.dropna(inplace=True)\n",
        "\treturn agg"
      ],
      "execution_count": 5,
      "outputs": []
    },
    {
      "cell_type": "markdown",
      "metadata": {
        "id": "59AJNpjySGDV"
      },
      "source": [
        "# 함수 2. 데이터를 가져와서 전처리, Train/Test로 나누어주기"
      ]
    },
    {
      "cell_type": "code",
      "metadata": {
        "id": "Q9F2UiMrSWsC"
      },
      "source": [
        "def data_preprocessing(step_size, data_filename):\n",
        "\t'''load data and transform data into trainset and testset\n",
        "\t\tfeatures: O,H,L,C \n",
        "\t\t'''\n",
        "\t#df_final = pd.read_csv('results_AAPL_new.csv')\n",
        "\tdf_final = pd.read_csv(data_filename)\n",
        "\t\n",
        "  #df_final.columns = ['Date', 'Open', 'High', 'Low', 'Close', 'Pct_change_raw', 'Compound_multiplied_raw']\n",
        "\tdf_final.columns = ['Date', 'Open', 'High', 'Low', 'Close', 'Adj Close', 'Volume']\n",
        "\t\n",
        "  # avoid the data leakage problem\n",
        "\t#df_final['Pct_change'] = df_final['Pct_change_raw'].shift(1)\n",
        "\t#df_final.drop(['Pct_change_raw'], axis=1, inplace=True)\n",
        "\t#df_final['Compound_multiplied'] = df_final['Compound_multiplied_raw'].shift(1)\n",
        "\t#df_final.drop(['Compound_multiplied_raw'], axis=1, inplace=True)\n",
        "\tdf_final.dropna(axis=0, how='any', inplace=True)\n",
        "\tdataset = df_final\n",
        "\tdataset['Date'] = pd.to_datetime(dataset.Date, format='%Y-%m-%d')\n",
        "\tdataset.index = dataset['Date']\n",
        "\tdataset = dataset.sort_index(ascending=True, axis=0)\n",
        "\tdataset.drop(['Date'], axis=1, inplace=True)\n",
        "\t\n",
        "\tvalues = dataset.values #67*6\n",
        "\t# ensure all data is float\n",
        "\tvalues = values.astype('float32')\n",
        "\t# normalize features\n",
        "\tscaler = MinMaxScaler(feature_range=(0, 1))\n",
        "\tscaled = scaler.fit_transform(values)\n",
        "\t\n",
        "\t# frame as supervised learning\n",
        "\treframed = series_to_supervised(scaled, step_size, 1)  # 5\n",
        "\tprint(reframed.shape)  # \n",
        "\t# split into train and test sets\n",
        "\tvalues = reframed.values\n",
        "\t\n",
        "\tn_train_days = 61-1\n",
        "\ttrain = values[:n_train_days, :]\n",
        "\ttest = values[n_train_days:, :]\n",
        "\t\n",
        "\treturn train, test, scaler"
      ],
      "execution_count": 17,
      "outputs": []
    },
    {
      "cell_type": "markdown",
      "metadata": {
        "id": "Nfo_XpBnSV_F"
      },
      "source": [
        "# 함수 3. Generator"
      ]
    },
    {
      "cell_type": "code",
      "metadata": {
        "colab": {
          "base_uri": "https://localhost:8080/"
        },
        "id": "s239UKLMSb2X",
        "outputId": "e7ee3613-0143-45c1-a167-f6b00f44f764"
      },
      "source": [
        "step_size = 5\n",
        "feature_num = 6\n",
        "\n",
        "generator_input = keras.Input(shape=(step_size,feature_num))\n",
        "x = layers.LSTM(75,return_sequences=True)(generator_input)\n",
        "x = layers.Dropout(0.2)(x)\n",
        "x = layers.LSTM(25)(x)\n",
        "x = layers.Dense(1)(x)\n",
        "x = layers.LeakyReLU()(x)\n",
        "generator = keras.models.Model(generator_input, x)\n",
        "generator.summary()"
      ],
      "execution_count": 7,
      "outputs": [
        {
          "output_type": "stream",
          "name": "stdout",
          "text": [
            "Model: \"model\"\n",
            "_________________________________________________________________\n",
            "Layer (type)                 Output Shape              Param #   \n",
            "=================================================================\n",
            "input_1 (InputLayer)         [(None, 5, 6)]            0         \n",
            "_________________________________________________________________\n",
            "lstm (LSTM)                  (None, 5, 75)             24600     \n",
            "_________________________________________________________________\n",
            "dropout (Dropout)            (None, 5, 75)             0         \n",
            "_________________________________________________________________\n",
            "lstm_1 (LSTM)                (None, 25)                10100     \n",
            "_________________________________________________________________\n",
            "dense (Dense)                (None, 1)                 26        \n",
            "_________________________________________________________________\n",
            "leaky_re_lu (LeakyReLU)      (None, 1)                 0         \n",
            "=================================================================\n",
            "Total params: 34,726\n",
            "Trainable params: 34,726\n",
            "Non-trainable params: 0\n",
            "_________________________________________________________________\n"
          ]
        }
      ]
    },
    {
      "cell_type": "markdown",
      "metadata": {
        "id": "RebGpfBcfZyZ"
      },
      "source": [
        "# 함수 4. Discriminator"
      ]
    },
    {
      "cell_type": "code",
      "metadata": {
        "colab": {
          "base_uri": "https://localhost:8080/"
        },
        "id": "wb0wso9Kfjdk",
        "outputId": "937a705b-ff30-42d2-e3dd-96d5b54a25ab"
      },
      "source": [
        "discriminator_input = layers.Input(shape=(step_size+1,1))\n",
        "y = layers.Dense(72)(discriminator_input)\n",
        "y = layers.LeakyReLU(alpha=0.05)(y)\n",
        "y = layers.Dense(100)(y)\n",
        "y = layers.LeakyReLU(alpha=0.05)(y)\n",
        "y = layers.Dense(10)(y)\n",
        "y = layers.LeakyReLU(alpha=0.05)(y)\n",
        "y = layers.Dense(1,activation='sigmoid')(y)\n",
        "discriminator = keras.models.Model(discriminator_input, y)\n",
        "discriminator.summary()"
      ],
      "execution_count": 8,
      "outputs": [
        {
          "output_type": "stream",
          "name": "stdout",
          "text": [
            "Model: \"model_1\"\n",
            "_________________________________________________________________\n",
            "Layer (type)                 Output Shape              Param #   \n",
            "=================================================================\n",
            "input_2 (InputLayer)         [(None, 6, 1)]            0         \n",
            "_________________________________________________________________\n",
            "dense_1 (Dense)              (None, 6, 72)             144       \n",
            "_________________________________________________________________\n",
            "leaky_re_lu_1 (LeakyReLU)    (None, 6, 72)             0         \n",
            "_________________________________________________________________\n",
            "dense_2 (Dense)              (None, 6, 100)            7300      \n",
            "_________________________________________________________________\n",
            "leaky_re_lu_2 (LeakyReLU)    (None, 6, 100)            0         \n",
            "_________________________________________________________________\n",
            "dense_3 (Dense)              (None, 6, 10)             1010      \n",
            "_________________________________________________________________\n",
            "leaky_re_lu_3 (LeakyReLU)    (None, 6, 10)             0         \n",
            "_________________________________________________________________\n",
            "dense_4 (Dense)              (None, 6, 1)              11        \n",
            "=================================================================\n",
            "Total params: 8,465\n",
            "Trainable params: 8,465\n",
            "Non-trainable params: 0\n",
            "_________________________________________________________________\n"
          ]
        }
      ]
    },
    {
      "cell_type": "markdown",
      "metadata": {
        "id": "0_TLE_fagLrF"
      },
      "source": [
        "# Generator & Discriminator 실행"
      ]
    },
    {
      "cell_type": "code",
      "metadata": {
        "colab": {
          "base_uri": "https://localhost:8080/",
          "height": 865
        },
        "id": "ImFbpmjqfOaX",
        "outputId": "7eeff375-c207-4bb3-dbac-2faca950f533"
      },
      "source": [
        "plot_model(generator, to_file='model_G.png', show_shapes=True, show_layer_names=True)\n",
        "plot_model(discriminator, to_file='model_D.png', show_shapes=True, show_layer_names=True)"
      ],
      "execution_count": 9,
      "outputs": [
        {
          "output_type": "execute_result",
          "data": {
            "image/png": "[encoded data removed]",
            "text/plain": [
              "<IPython.core.display.Image object>"
            ]
          },
          "metadata": {},
          "execution_count": 9
        }
      ]
    },
    {
      "cell_type": "markdown",
      "metadata": {
        "id": "yhwbGAXlfQmv"
      },
      "source": [
        "# 함수 5. Optimizer"
      ]
    },
    {
      "cell_type": "code",
      "metadata": {
        "colab": {
          "base_uri": "https://localhost:8080/"
        },
        "id": "XH-WNfiSfSI6",
        "outputId": "353ee841-b7b6-4505-d583-b7074b4cb36a"
      },
      "source": [
        "discriminator_optimizer = optimizers.RMSprop(lr=8e-4, clipvalue=1.0, decay=1e-8)\n",
        "discriminator.compile(optimizer=discriminator_optimizer, loss='binary_crossentropy')\n",
        "\n",
        "# Optimizer정의 \n",
        "discriminator.trainable = False\n",
        "gan_input = keras.Input(shape=(step_size, feature_num))\n",
        "gan_output = discriminator(generator(gan_input))\n",
        "gan = keras.models.Model(gan_input, gan_output)\n",
        "gan_optimizer = optimizers.RMSprop(lr=4e-4, clipvalue=1.0, decay=1e-8)\n",
        "gan.compile(optimizer=gan_optimizer, loss='binary_crossentropy')"
      ],
      "execution_count": 14,
      "outputs": [
        {
          "output_type": "stream",
          "name": "stderr",
          "text": [
            "/usr/local/lib/python3.7/dist-packages/keras/optimizer_v2/optimizer_v2.py:356: UserWarning: The `lr` argument is deprecated, use `learning_rate` instead.\n",
            "  \"The `lr` argument is deprecated, use `learning_rate` instead.\")\n"
          ]
        },
        {
          "output_type": "stream",
          "name": "stdout",
          "text": [
            "WARNING:tensorflow:Model was constructed with shape (None, 6, 1) for input KerasTensor(type_spec=TensorSpec(shape=(None, 6, 1), dtype=tf.float32, name='input_2'), name='input_2', description=\"created by layer 'input_2'\"), but it was called on an input with incompatible shape (None, 1, 1).\n"
          ]
        }
      ]
    },
    {
      "cell_type": "markdown",
      "metadata": {
        "id": "-MzhUrR9f2pb"
      },
      "source": [
        "# 함수 6. 데이터 Reshape"
      ]
    },
    {
      "cell_type": "code",
      "metadata": {
        "colab": {
          "base_uri": "https://localhost:8080/"
        },
        "id": "T9X2kJ9jf3BP",
        "outputId": "ea23857d-4d18-44ab-d638-d0b4734ef617"
      },
      "source": [
        "# PREPARATION OF TIME SERIES DATASET\n",
        "train,test,scaler = data_preprocessing(step_size, \"BAC.csv\")\n",
        "# split into input and outputs\n",
        "n_obs = step_size * feature_num\n",
        "train_X, train_Y = train[:, :n_obs], train[:, -feature_num] #choose the first feature,namely 'open price'\n",
        "test_X, test_Y = test[:, :n_obs], test[:, -feature_num]  # !!!!!!!!!!!!!!!\n",
        "print(train_X.shape, len(train_X), train_Y.shape) #train_X 280*30,train_Y  280*6\n",
        "# reshape input to be 3D [samples, timesteps, features]\n",
        "trainX = train_X.reshape((train_X.shape[0], step_size, feature_num))\n",
        "testX = test_X.reshape((test_X.shape[0], step_size, feature_num))"
      ],
      "execution_count": 18,
      "outputs": [
        {
          "output_type": "stream",
          "name": "stdout",
          "text": [
            "(246, 36)\n",
            "(60, 30) 60 (60,)\n"
          ]
        }
      ]
    },
    {
      "cell_type": "markdown",
      "metadata": {
        "id": "Qq71Nal5f8VB"
      },
      "source": [
        "# 파라미터 정의"
      ]
    },
    {
      "cell_type": "code",
      "metadata": {
        "id": "IvJNscref_h6"
      },
      "source": [
        "#파라메터정의 \n",
        "iterations = 61-1\n",
        "batch_size = 1\n",
        "start = 0\n",
        "final = []"
      ],
      "execution_count": 19,
      "outputs": []
    },
    {
      "cell_type": "markdown",
      "metadata": {
        "id": "9rFWepa7gFTt"
      },
      "source": [
        "# RUN!!"
      ]
    },
    {
      "cell_type": "code",
      "metadata": {
        "colab": {
          "base_uri": "https://localhost:8080/"
        },
        "id": "0i-VEMfJgCKk",
        "outputId": "c2a77631-a2ab-48d2-e52b-6bc70f12da7c"
      },
      "source": [
        "#이터레이션 시작 \n",
        "for step in range(iterations):\n",
        "\tprint(step)\n",
        "\ttemp_X = copy.deepcopy(trainX[step])\n",
        "\ttemp_X = temp_X.reshape(batch_size,step_size,feature_num)\n",
        "\ttemp_Y = copy.deepcopy(train_Y[step])\n",
        "\ttemp_Y = temp_Y.reshape(batch_size,1)\n",
        "\tpredictions = generator.predict(temp_X)\n",
        "\t# discrriminator \n",
        "\tfor i in range(25):\n",
        "\t\taaa = trainX[step]\n",
        "\t\tinput_f = np.concatenate([np.transpose(np.array([aaa[:,0]])), predictions], 0)\n",
        "\t\tinput_r = np.concatenate([np.transpose(np.array([aaa[:,0]])), temp_Y], 0)\n",
        "\t\tinput = np.concatenate([[input_f],[input_r]])\n",
        "\t\tlabels = np.concatenate([[np.ones((6, 1))], [np.zeros((6, 1))]])\n",
        "\t\td_loss = discriminator.train_on_batch(input, labels)\n",
        "\t# generator \n",
        "\tfor i in range(5):\n",
        "\t\tmisleading_targets = np.zeros((batch_size, 1))\n",
        "\t\ta_loss = gan.train_on_batch(temp_X, [misleading_targets])\n",
        "\tfinal.append(predictions[0])\n",
        "final = np.concatenate((np.array(final), train_X[:, -5:]), axis=1)\n",
        "final2 = np.concatenate((np.transpose(np.array([train_Y])), train_X[:, -5:]), axis=1)\n",
        "int1 = scaler.inverse_transform(final)\n",
        "int2 = scaler.inverse_transform(final2)\n",
        "MAPE_O1 = np.mean(np.abs((int2[:,0] - int1[:,0]) / int2[:,0]))\n",
        "print('training result:',MAPE_O1)"
      ],
      "execution_count": 20,
      "outputs": [
        {
          "output_type": "stream",
          "name": "stdout",
          "text": [
            "0\n",
            "WARNING:tensorflow:Model was constructed with shape (None, 6, 1) for input KerasTensor(type_spec=TensorSpec(shape=(None, 6, 1), dtype=tf.float32, name='input_2'), name='input_2', description=\"created by layer 'input_2'\"), but it was called on an input with incompatible shape (1, 1, 1).\n",
            "WARNING:tensorflow:Model was constructed with shape (None, 6, 1) for input KerasTensor(type_spec=TensorSpec(shape=(None, 6, 1), dtype=tf.float32, name='input_2'), name='input_2', description=\"created by layer 'input_2'\"), but it was called on an input with incompatible shape (1, 1, 1).\n",
            "1\n",
            "2\n",
            "3\n",
            "4\n",
            "5\n",
            "6\n",
            "7\n",
            "8\n",
            "9\n",
            "10\n",
            "11\n",
            "12\n",
            "13\n",
            "14\n",
            "15\n",
            "16\n",
            "17\n",
            "18\n",
            "19\n",
            "20\n",
            "21\n",
            "22\n",
            "23\n",
            "24\n",
            "25\n",
            "26\n",
            "27\n",
            "28\n",
            "29\n",
            "30\n",
            "31\n",
            "32\n",
            "33\n",
            "34\n",
            "35\n",
            "36\n",
            "37\n",
            "38\n",
            "39\n",
            "40\n",
            "41\n",
            "42\n",
            "43\n",
            "44\n",
            "45\n",
            "46\n",
            "47\n",
            "48\n",
            "49\n",
            "50\n",
            "51\n",
            "52\n",
            "53\n",
            "54\n",
            "55\n",
            "56\n",
            "57\n",
            "58\n",
            "59\n",
            "training result: 4.477644\n"
          ]
        }
      ]
    }
  ]
}